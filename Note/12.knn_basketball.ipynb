{
 "cells": [
  {
   "cell_type": "markdown",
   "metadata": {},
   "source": [
    "## kNN"
   ]
  },
  {
   "cell_type": "code",
   "execution_count": 82,
   "metadata": {},
   "outputs": [],
   "source": [
    "import warnings\n",
    "warnings.filterwarnings('ignore')"
   ]
  },
  {
   "cell_type": "code",
   "execution_count": 62,
   "metadata": {},
   "outputs": [],
   "source": [
    "# Random값 정하기\n",
    "import numpy as np\n",
    "np.random.seed(5)"
   ]
  },
  {
   "cell_type": "code",
   "execution_count": 63,
   "metadata": {},
   "outputs": [],
   "source": [
    "import pandas as pd\n",
    "# 데이터 불러오기\n",
    "train = pd.read_csv('../Data/basketball_train.csv')\n",
    "test = pd.read_csv('../Data/basketball_test.csv')\n"
   ]
  },
  {
   "cell_type": "code",
   "execution_count": 64,
   "metadata": {},
   "outputs": [
    {
     "data": {
      "text/html": [
       "<div>\n",
       "<style scoped>\n",
       "    .dataframe tbody tr th:only-of-type {\n",
       "        vertical-align: middle;\n",
       "    }\n",
       "\n",
       "    .dataframe tbody tr th {\n",
       "        vertical-align: top;\n",
       "    }\n",
       "\n",
       "    .dataframe thead th {\n",
       "        text-align: right;\n",
       "    }\n",
       "</style>\n",
       "<table border=\"1\" class=\"dataframe\">\n",
       "  <thead>\n",
       "    <tr style=\"text-align: right;\">\n",
       "      <th></th>\n",
       "      <th>Player</th>\n",
       "      <th>Pos</th>\n",
       "      <th>3P</th>\n",
       "      <th>TRB</th>\n",
       "      <th>BLK</th>\n",
       "    </tr>\n",
       "  </thead>\n",
       "  <tbody>\n",
       "    <tr>\n",
       "      <th>0</th>\n",
       "      <td>Pau Gasol</td>\n",
       "      <td>C</td>\n",
       "      <td>0.9</td>\n",
       "      <td>7.8</td>\n",
       "      <td>1.1</td>\n",
       "    </tr>\n",
       "    <tr>\n",
       "      <th>1</th>\n",
       "      <td>Nicolas Batum</td>\n",
       "      <td>SG</td>\n",
       "      <td>1.8</td>\n",
       "      <td>6.2</td>\n",
       "      <td>0.4</td>\n",
       "    </tr>\n",
       "    <tr>\n",
       "      <th>2</th>\n",
       "      <td>Allen Crabbe</td>\n",
       "      <td>SG</td>\n",
       "      <td>1.7</td>\n",
       "      <td>2.9</td>\n",
       "      <td>0.3</td>\n",
       "    </tr>\n",
       "    <tr>\n",
       "      <th>3</th>\n",
       "      <td>Manu Ginobili</td>\n",
       "      <td>SG</td>\n",
       "      <td>1.3</td>\n",
       "      <td>2.3</td>\n",
       "      <td>0.2</td>\n",
       "    </tr>\n",
       "    <tr>\n",
       "      <th>4</th>\n",
       "      <td>Danny Green</td>\n",
       "      <td>SG</td>\n",
       "      <td>1.7</td>\n",
       "      <td>3.3</td>\n",
       "      <td>0.8</td>\n",
       "    </tr>\n",
       "  </tbody>\n",
       "</table>\n",
       "</div>"
      ],
      "text/plain": [
       "          Player Pos   3P  TRB  BLK\n",
       "0      Pau Gasol   C  0.9  7.8  1.1\n",
       "1  Nicolas Batum  SG  1.8  6.2  0.4\n",
       "2   Allen Crabbe  SG  1.7  2.9  0.3\n",
       "3  Manu Ginobili  SG  1.3  2.3  0.2\n",
       "4    Danny Green  SG  1.7  3.3  0.8"
      ]
     },
     "execution_count": 64,
     "metadata": {},
     "output_type": "execute_result"
    }
   ],
   "source": [
    "train.head()\n"
   ]
  },
  {
   "cell_type": "code",
   "execution_count": 65,
   "metadata": {},
   "outputs": [
    {
     "data": {
      "text/html": [
       "<div>\n",
       "<style scoped>\n",
       "    .dataframe tbody tr th:only-of-type {\n",
       "        vertical-align: middle;\n",
       "    }\n",
       "\n",
       "    .dataframe tbody tr th {\n",
       "        vertical-align: top;\n",
       "    }\n",
       "\n",
       "    .dataframe thead th {\n",
       "        text-align: right;\n",
       "    }\n",
       "</style>\n",
       "<table border=\"1\" class=\"dataframe\">\n",
       "  <thead>\n",
       "    <tr style=\"text-align: right;\">\n",
       "      <th></th>\n",
       "      <th>Player</th>\n",
       "      <th>Pos</th>\n",
       "      <th>3P</th>\n",
       "      <th>TRB</th>\n",
       "      <th>BLK</th>\n",
       "    </tr>\n",
       "  </thead>\n",
       "  <tbody>\n",
       "    <tr>\n",
       "      <th>0</th>\n",
       "      <td>Avery Bradley</td>\n",
       "      <td>SG</td>\n",
       "      <td>2.0</td>\n",
       "      <td>6.1</td>\n",
       "      <td>0.2</td>\n",
       "    </tr>\n",
       "    <tr>\n",
       "      <th>1</th>\n",
       "      <td>Zach LaVine</td>\n",
       "      <td>SG</td>\n",
       "      <td>2.6</td>\n",
       "      <td>3.4</td>\n",
       "      <td>0.2</td>\n",
       "    </tr>\n",
       "    <tr>\n",
       "      <th>2</th>\n",
       "      <td>Troy Daniels</td>\n",
       "      <td>SG</td>\n",
       "      <td>2.1</td>\n",
       "      <td>1.5</td>\n",
       "      <td>0.1</td>\n",
       "    </tr>\n",
       "    <tr>\n",
       "      <th>3</th>\n",
       "      <td>Will Barton</td>\n",
       "      <td>SG</td>\n",
       "      <td>1.5</td>\n",
       "      <td>4.3</td>\n",
       "      <td>0.5</td>\n",
       "    </tr>\n",
       "    <tr>\n",
       "      <th>4</th>\n",
       "      <td>Willie Cauley-Stein</td>\n",
       "      <td>C</td>\n",
       "      <td>0.0</td>\n",
       "      <td>4.5</td>\n",
       "      <td>0.6</td>\n",
       "    </tr>\n",
       "  </tbody>\n",
       "</table>\n",
       "</div>"
      ],
      "text/plain": [
       "                Player Pos   3P  TRB  BLK\n",
       "0        Avery Bradley  SG  2.0  6.1  0.2\n",
       "1          Zach LaVine  SG  2.6  3.4  0.2\n",
       "2         Troy Daniels  SG  2.1  1.5  0.1\n",
       "3          Will Barton  SG  1.5  4.3  0.5\n",
       "4  Willie Cauley-Stein   C  0.0  4.5  0.6"
      ]
     },
     "execution_count": 65,
     "metadata": {},
     "output_type": "execute_result"
    }
   ],
   "source": [
    "test.head()\n"
   ]
  },
  {
   "cell_type": "code",
   "execution_count": 66,
   "metadata": {},
   "outputs": [
    {
     "name": "stdout",
     "output_type": "stream",
     "text": [
      "(80, 5)\n",
      "(20, 5)\n"
     ]
    }
   ],
   "source": [
    "# 전체 데이터 갯수 확인하기\n",
    "print(train.shape)\n",
    "print(test.shape)\n"
   ]
  },
  {
   "cell_type": "code",
   "execution_count": 67,
   "metadata": {},
   "outputs": [
    {
     "name": "stdout",
     "output_type": "stream",
     "text": [
      "Player    0\n",
      "Pos       0\n",
      "3P        0\n",
      "TRB       0\n",
      "BLK       0\n",
      "dtype: int64\n",
      "--------------------------------\n",
      "Player    0\n",
      "Pos       0\n",
      "3P        0\n",
      "TRB       0\n",
      "BLK       0\n",
      "dtype: int64\n"
     ]
    }
   ],
   "source": [
    "# train의 NaN 확인\n",
    "print(train.isna().sum())\n",
    "\n",
    "print('--------------------------------')\n",
    "\n",
    "# test의 NaN 확인\n",
    "print(test.isna().sum())"
   ]
  },
  {
   "cell_type": "markdown",
   "metadata": {},
   "source": [
    "### 최적의 k찾기(교차검증: cross validation)"
   ]
  },
  {
   "cell_type": "code",
   "execution_count": 68,
   "metadata": {},
   "outputs": [],
   "source": [
    "# kNN\n",
    "from sklearn.neighbors import KNeighborsClassifier\n",
    "\n",
    "# 교차검증\n",
    "from sklearn.model_selection import cross_val_score"
   ]
  },
  {
   "cell_type": "code",
   "execution_count": 69,
   "metadata": {},
   "outputs": [],
   "source": [
    "# 최적의 k를 찾기 위해 교차검증을 수행할 k의 범위를 3부터 학습데이터 절반까지 지정\n",
    "# train.shape # (80, 5) 튜플 타입\n",
    "# train.shape[0] # 80\n",
    "max_k_range = train.shape[0] // 2 # 40  (//는 몫을 구하는 연산자)\n"
   ]
  },
  {
   "cell_type": "code",
   "execution_count": 70,
   "metadata": {},
   "outputs": [
    {
     "data": {
      "text/plain": [
       "[3, 5, 7, 9, 11, 13, 15, 17, 19, 21, 23, 25, 27, 29, 31, 33, 35, 37, 39]"
      ]
     },
     "execution_count": 70,
     "metadata": {},
     "output_type": "execute_result"
    }
   ],
   "source": [
    "# 최적의 k를 찾기 위한 범위 리스트 만들기\n",
    "k_list = []\n",
    "\n",
    "for i in range(3, max_k_range , 2):\n",
    "    k_list.append(i)\n",
    "\n",
    "k_list\n"
   ]
  },
  {
   "cell_type": "code",
   "execution_count": 71,
   "metadata": {},
   "outputs": [
    {
     "data": {
      "text/plain": [
       "[3, 5, 7, 9, 11, 13, 15, 17, 19, 21, 23, 25, 27, 29, 31, 33, 35, 37, 39]"
      ]
     },
     "execution_count": 71,
     "metadata": {},
     "output_type": "execute_result"
    }
   ],
   "source": [
    "# List comprehension\n",
    "k_list = [i for i in range(3, max_k_range, 2)]\n",
    "\n",
    "k_list\n"
   ]
  },
  {
   "cell_type": "code",
   "execution_count": 72,
   "metadata": {},
   "outputs": [
    {
     "data": {
      "text/html": [
       "<div>\n",
       "<style scoped>\n",
       "    .dataframe tbody tr th:only-of-type {\n",
       "        vertical-align: middle;\n",
       "    }\n",
       "\n",
       "    .dataframe tbody tr th {\n",
       "        vertical-align: top;\n",
       "    }\n",
       "\n",
       "    .dataframe thead th {\n",
       "        text-align: right;\n",
       "    }\n",
       "</style>\n",
       "<table border=\"1\" class=\"dataframe\">\n",
       "  <thead>\n",
       "    <tr style=\"text-align: right;\">\n",
       "      <th></th>\n",
       "      <th>Player</th>\n",
       "      <th>Pos</th>\n",
       "      <th>3P</th>\n",
       "      <th>TRB</th>\n",
       "      <th>BLK</th>\n",
       "    </tr>\n",
       "  </thead>\n",
       "  <tbody>\n",
       "    <tr>\n",
       "      <th>0</th>\n",
       "      <td>Pau Gasol</td>\n",
       "      <td>C</td>\n",
       "      <td>0.9</td>\n",
       "      <td>7.8</td>\n",
       "      <td>1.1</td>\n",
       "    </tr>\n",
       "    <tr>\n",
       "      <th>1</th>\n",
       "      <td>Nicolas Batum</td>\n",
       "      <td>SG</td>\n",
       "      <td>1.8</td>\n",
       "      <td>6.2</td>\n",
       "      <td>0.4</td>\n",
       "    </tr>\n",
       "    <tr>\n",
       "      <th>2</th>\n",
       "      <td>Allen Crabbe</td>\n",
       "      <td>SG</td>\n",
       "      <td>1.7</td>\n",
       "      <td>2.9</td>\n",
       "      <td>0.3</td>\n",
       "    </tr>\n",
       "    <tr>\n",
       "      <th>3</th>\n",
       "      <td>Manu Ginobili</td>\n",
       "      <td>SG</td>\n",
       "      <td>1.3</td>\n",
       "      <td>2.3</td>\n",
       "      <td>0.2</td>\n",
       "    </tr>\n",
       "    <tr>\n",
       "      <th>4</th>\n",
       "      <td>Danny Green</td>\n",
       "      <td>SG</td>\n",
       "      <td>1.7</td>\n",
       "      <td>3.3</td>\n",
       "      <td>0.8</td>\n",
       "    </tr>\n",
       "  </tbody>\n",
       "</table>\n",
       "</div>"
      ],
      "text/plain": [
       "          Player Pos   3P  TRB  BLK\n",
       "0      Pau Gasol   C  0.9  7.8  1.1\n",
       "1  Nicolas Batum  SG  1.8  6.2  0.4\n",
       "2   Allen Crabbe  SG  1.7  2.9  0.3\n",
       "3  Manu Ginobili  SG  1.3  2.3  0.2\n",
       "4    Danny Green  SG  1.7  3.3  0.8"
      ]
     },
     "execution_count": 72,
     "metadata": {},
     "output_type": "execute_result"
    }
   ],
   "source": [
    "train.head()"
   ]
  },
  {
   "cell_type": "code",
   "execution_count": 73,
   "metadata": {},
   "outputs": [
    {
     "name": "stdout",
     "output_type": "stream",
     "text": [
      "    3P  BLK  TRB\n",
      "0  0.9  1.1  7.8\n",
      "1  1.8  0.4  6.2\n",
      "2  1.7  0.3  2.9\n",
      "3  1.3  0.2  2.3\n",
      "4  1.7  0.8  3.3\n",
      "--------------------------------\n",
      "0     C\n",
      "1    SG\n",
      "2    SG\n",
      "3    SG\n",
      "4    SG\n",
      "Name: Pos, dtype: object\n"
     ]
    }
   ],
   "source": [
    "train_data = train[['3P', 'BLK', 'TRB']]\n",
    "train_target = train['Pos']\n",
    "\n",
    "print(train_data.head())\n",
    "print('--------------------------------')\n",
    "print(train_target.head())\n",
    "\n",
    "# 교차검증 정확도 측정\n",
    "\n",
    "\n",
    "\n"
   ]
  },
  {
   "cell_type": "code",
   "execution_count": 74,
   "metadata": {},
   "outputs": [
    {
     "name": "stdout",
     "output_type": "stream",
     "text": [
      "[0.875 0.875 0.875 0.875 0.875 0.875 0.75  1.    1.    0.75 ]\n",
      "[0.875 0.75  0.875 0.875 1.    1.    0.75  1.    1.    0.875]\n",
      "[0.875 0.625 0.875 0.875 1.    0.875 0.75  1.    1.    0.875]\n",
      "[0.875 0.625 0.875 0.875 1.    1.    0.75  1.    1.    0.875]\n",
      "[0.875 0.625 0.875 0.875 1.    1.    0.75  1.    1.    0.875]\n",
      "[0.875 0.625 0.875 0.875 1.    1.    0.75  1.    1.    0.875]\n",
      "[0.875 0.625 0.875 0.875 1.    1.    0.75  1.    1.    0.875]\n",
      "[0.875 0.625 0.875 0.875 1.    1.    0.75  1.    1.    0.875]\n",
      "[0.875 0.625 0.875 0.875 1.    1.    0.75  1.    1.    0.875]\n",
      "[0.875 0.625 0.875 0.875 1.    1.    0.75  1.    1.    0.875]\n",
      "[0.875 0.625 0.875 0.875 1.    1.    0.75  1.    1.    0.875]\n",
      "[0.875 0.625 0.875 0.875 1.    1.    0.75  1.    1.    0.875]\n",
      "[0.875 0.625 0.875 0.875 1.    1.    0.75  1.    1.    0.875]\n",
      "[0.875 0.625 0.875 0.875 1.    0.875 0.75  1.    1.    0.875]\n",
      "[0.875 0.625 0.875 0.875 1.    0.875 0.75  1.    1.    0.875]\n",
      "[0.875 0.625 0.875 0.875 1.    0.875 0.75  1.    0.875 0.875]\n",
      "[0.875 0.5   0.875 0.875 1.    0.875 0.75  1.    0.875 0.875]\n",
      "[0.875 0.5   0.875 0.875 1.    0.875 0.75  0.875 0.875 0.875]\n",
      "[0.875 0.5   0.875 0.875 1.    0.875 0.75  0.875 0.875 0.875]\n"
     ]
    }
   ],
   "source": [
    "# 교차검증(10-fold)을 각 k를 대상으로 수행해 검증결과를 저장\n",
    "cross_validation_score = []\n",
    "\n",
    "for k in k_list:\n",
    "    knn = KNeighborsClassifier(n_neighbors=k)\n",
    "    scores = cross_val_score(\n",
    "        knn,    # 모델 알려주기\n",
    "        train_data,\n",
    "        train_target,\n",
    "        cv=10, # cross validation: 9개는 학습, 1개는 검증 데이터로 사용\n",
    "        scoring='accuracy'\n",
    "    )\n",
    "    print(scores)\n",
    "    cross_validation_score.append(scores.mean())    # i 였을 때에 cross validation 했을 때의 평균값\n"
   ]
  },
  {
   "cell_type": "code",
   "execution_count": 75,
   "metadata": {},
   "outputs": [
    {
     "data": {
      "text/plain": [
       "[0.875,\n",
       " 0.9,\n",
       " 0.875,\n",
       " 0.8875,\n",
       " 0.8875,\n",
       " 0.8875,\n",
       " 0.8875,\n",
       " 0.8875,\n",
       " 0.8875,\n",
       " 0.8875,\n",
       " 0.8875,\n",
       " 0.8875,\n",
       " 0.8875,\n",
       " 0.875,\n",
       " 0.875,\n",
       " 0.8625,\n",
       " 0.85,\n",
       " 0.8375,\n",
       " 0.8375]"
      ]
     },
     "execution_count": 75,
     "metadata": {},
     "output_type": "execute_result"
    }
   ],
   "source": [
    "cross_validation_score"
   ]
  },
  {
   "cell_type": "markdown",
   "metadata": {},
   "source": [
    "### 시각화를 통한 결과값 확인"
   ]
  },
  {
   "cell_type": "code",
   "execution_count": 76,
   "metadata": {},
   "outputs": [],
   "source": [
    "import matplotlib.pyplot as plt"
   ]
  },
  {
   "cell_type": "code",
   "execution_count": 77,
   "metadata": {},
   "outputs": [
    {
     "data": {
      "image/png": "[encoded data removed]",
      "text/plain": [
       "<Figure size 640x480 with 1 Axes>"
      ]
     },
     "metadata": {},
     "output_type": "display_data"
    }
   ],
   "source": [
    "# k의 정확도 시각화\n",
    "plt.plot(\n",
    "    k_list, # x축 :3,5,7,9...\n",
    "    cross_validation_score # y축 : 정확도\n",
    ")\n",
    "\n",
    "plt.xlabel('k')\n",
    "plt.ylabel('Accuracy')\n",
    "\n",
    "plt.show()"
   ]
  },
  {
   "cell_type": "code",
   "execution_count": 78,
   "metadata": {},
   "outputs": [
    {
     "data": {
      "text/plain": [
       "5"
      ]
     },
     "execution_count": 78,
     "metadata": {},
     "output_type": "execute_result"
    }
   ],
   "source": [
    "# 가장 예측력이 높은 k를 선정\n",
    "cvs = cross_validation_score\n",
    "k = k_list[cvs.index(max(cvs))] # index 함수를 사용하면 예측력이 높은 순서대로 인덱스가 나옴. 예측력이 동점이면 가장 작은 인덱스가 나옴\n",
    "k"
   ]
  },
  {
   "cell_type": "markdown",
   "metadata": {},
   "source": [
    "---\n",
    "### 2개의 특징으로 예측하기(3점슛, 블로킹)"
   ]
  },
  {
   "cell_type": "code",
   "execution_count": 79,
   "metadata": {},
   "outputs": [
    {
     "name": "stdout",
     "output_type": "stream",
     "text": [
      "Train:  0.9625\n",
      "Test:  0.95\n"
     ]
    }
   ],
   "source": [
    "knn = KNeighborsClassifier(n_neighbors=k)\n",
    "\n",
    "# Train의 feature와 target\n",
    "train_data = train[['3P', 'BLK']]\n",
    "train_target = train['Pos']\n",
    "\n",
    "# Test의 feature와 target\n",
    "test_data = test[['3P', 'BLK']]\n",
    "test_target = test['Pos']\n",
    "\n",
    "# 학습시키기\n",
    "knn.fit(train_data, train_target)\n",
    "\n",
    "# 검증하기 \n",
    "print('Train: ', knn.score(train_data, train_target))\n",
    "print('Test: ', knn.score(test_data, test_target))"
   ]
  },
  {
   "cell_type": "markdown",
   "metadata": {},
   "source": [
    "---\n",
    "### 3개의 특징으로 예측하기 (3점슛, 블로킹, 리바운드)"
   ]
  },
  {
   "cell_type": "code",
   "execution_count": 80,
   "metadata": {},
   "outputs": [
    {
     "name": "stdout",
     "output_type": "stream",
     "text": [
      "Train:  0.925\n",
      "Test:  0.9\n"
     ]
    }
   ],
   "source": [
    "knn = KNeighborsClassifier(n_neighbors=k)\n",
    "\n",
    "# Train의 feature와 target\n",
    "train_data = train[['3P', 'BLK', 'TRB']]\n",
    "train_target = train['Pos']\n",
    "\n",
    "# Test의 feature와 target\n",
    "test_data = test[['3P', 'BLK', 'TRB']]\n",
    "test_target = test['Pos']\n",
    "\n",
    "# 학습시키기\n",
    "knn.fit(train_data, train_target)\n",
    "\n",
    "# 검증하기 \n",
    "print('Train: ', knn.score(train_data, train_target))\n",
    "print('Test: ', knn.score(test_data, test_target))"
   ]
  },
  {
   "cell_type": "markdown",
   "metadata": {},
   "source": [
    "---\n",
    "### 학습한 AI Model 사용해보기\n",
    "\n",
    "어떤 선수의 점수 : \n",
    "- 3P: 3.4\n",
    "- BLK: 0.5\n",
    "- TRB: 3.7"
   ]
  },
  {
   "cell_type": "code",
   "execution_count": 93,
   "metadata": {},
   "outputs": [
    {
     "data": {
      "text/plain": [
       "array(['SG'], dtype=object)"
      ]
     },
     "execution_count": 93,
     "metadata": {},
     "output_type": "execute_result"
    }
   ],
   "source": [
    "# 방법 1\n",
    "knn.predict([[3.4, 0.5, 3.7]])\n",
    "    "
   ]
  },
  {
   "cell_type": "code",
   "execution_count": 92,
   "metadata": {},
   "outputs": [
    {
     "data": {
      "text/html": [
       "<div>\n",
       "<style scoped>\n",
       "    .dataframe tbody tr th:only-of-type {\n",
       "        vertical-align: middle;\n",
       "    }\n",
       "\n",
       "    .dataframe tbody tr th {\n",
       "        vertical-align: top;\n",
       "    }\n",
       "\n",
       "    .dataframe thead th {\n",
       "        text-align: right;\n",
       "    }\n",
       "</style>\n",
       "<table border=\"1\" class=\"dataframe\">\n",
       "  <thead>\n",
       "    <tr style=\"text-align: right;\">\n",
       "      <th></th>\n",
       "      <th>3P</th>\n",
       "      <th>BLK</th>\n",
       "      <th>TRB</th>\n",
       "    </tr>\n",
       "  </thead>\n",
       "  <tbody>\n",
       "    <tr>\n",
       "      <th>0</th>\n",
       "      <td>3.4</td>\n",
       "      <td>0.5</td>\n",
       "      <td>3.7</td>\n",
       "    </tr>\n",
       "  </tbody>\n",
       "</table>\n",
       "</div>"
      ],
      "text/plain": [
       "    3P  BLK  TRB\n",
       "0  3.4  0.5  3.7"
      ]
     },
     "execution_count": 92,
     "metadata": {},
     "output_type": "execute_result"
    }
   ],
   "source": [
    "# 방법 2\n",
    "data = {\n",
    "    '3P': [3.4],\n",
    "    'BLK': [0.5],\n",
    "    'TRB': [3.7]\n",
    "}\n",
    "\n",
    "df = pd.DataFrame(data)\n",
    "df\n"
   ]
  },
  {
   "cell_type": "code",
   "execution_count": 95,
   "metadata": {},
   "outputs": [
    {
     "name": "stdout",
     "output_type": "stream",
     "text": [
      "추천 포지션: SG\n"
     ]
    }
   ],
   "source": [
    "# 예측\n",
    "pred = knn.predict(df)\n",
    "print('추천 포지션:', pred[0])\n"
   ]
  },
  {
   "cell_type": "markdown",
   "metadata": {},
   "source": [
    "---\n",
    "### AI 저장하기"
   ]
  },
  {
   "cell_type": "code",
   "execution_count": 96,
   "metadata": {},
   "outputs": [],
   "source": [
    "import joblib"
   ]
  },
  {
   "cell_type": "code",
   "execution_count": 97,
   "metadata": {},
   "outputs": [
    {
     "data": {
      "text/plain": [
       "['../Data/knn_basketball.h5']"
      ]
     },
     "execution_count": 97,
     "metadata": {},
     "output_type": "execute_result"
    }
   ],
   "source": [
    "fileName = '../Data/knn_basketball.h5'\n",
    "joblib.dump(knn, fileName)\n"
   ]
  },
  {
   "cell_type": "code",
   "execution_count": null,
   "metadata": {},
   "outputs": [],
   "source": []
  }
 ],
 "metadata": {
  "kernelspec": {
   "display_name": "base",
   "language": "python",
   "name": "python3"
  },
  "language_info": {
   "codemirror_mode": {
    "name": "ipython",
    "version": 3
   },
   "file_extension": ".py",
   "mimetype": "text/x-python",
   "name": "python",
   "nbconvert_exporter": "python",
   "pygments_lexer": "ipython3",
   "version": "3.12.7"
  }
 },
 "nbformat": 4,
 "nbformat_minor": 2
}
