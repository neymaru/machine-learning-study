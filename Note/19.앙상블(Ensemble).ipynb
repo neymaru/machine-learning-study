{
 "cells": [
  {
   "cell_type": "markdown",
   "metadata": {},
   "source": [
    "### 앙상블(Ensemble)\n",
    ": 여러개의 분류모델을 조합해서 더 나은 성능을 내는 방법"
   ]
  },
  {
   "cell_type": "markdown",
   "metadata": {},
   "source": [
    "### Random Forest\n",
    ": 의사결정나무를 단일모델조합(bagging)해서 예측을 실행하는 모델\n",
    "\n"
   ]
  },
  {
   "cell_type": "code",
   "execution_count": 66,
   "metadata": {},
   "outputs": [],
   "source": [
    "from sklearn import datasets\n",
    "from sklearn.tree import DecisionTreeClassifier\n",
    "from sklearn.ensemble import RandomForestClassifier\n",
    "from sklearn.model_selection import cross_val_score\n",
    "\n",
    "import matplotlib.pyplot as plt\n",
    "import pandas as pd\n",
    "import numpy as np\n",
    "\n",
    "np.random.seed(5)   # 랜덤 시작값 고정\n"
   ]
  },
  {
   "cell_type": "code",
   "execution_count": 67,
   "metadata": {},
   "outputs": [],
   "source": [
    "# 손글씨 데이터\n",
    "mnist = datasets.load_digits()\n",
    "features, labels = mnist.data, mnist.target"
   ]
  },
  {
   "cell_type": "code",
   "execution_count": 68,
   "metadata": {},
   "outputs": [
    {
     "data": {
      "text/plain": [
       "array([[ 0.,  0.,  5., ...,  0.,  0.,  0.],\n",
       "       [ 0.,  0.,  0., ..., 10.,  0.,  0.],\n",
       "       [ 0.,  0.,  0., ..., 16.,  9.,  0.],\n",
       "       ...,\n",
       "       [ 0.,  0.,  1., ...,  6.,  0.,  0.],\n",
       "       [ 0.,  0.,  2., ..., 12.,  0.,  0.],\n",
       "       [ 0.,  0., 10., ..., 12.,  1.,  0.]])"
      ]
     },
     "execution_count": 68,
     "metadata": {},
     "output_type": "execute_result"
    }
   ],
   "source": [
    "features"
   ]
  },
  {
   "cell_type": "code",
   "execution_count": 69,
   "metadata": {},
   "outputs": [
    {
     "data": {
      "text/plain": [
       "array([0, 1, 2, ..., 8, 9, 8])"
      ]
     },
     "execution_count": 69,
     "metadata": {},
     "output_type": "execute_result"
    }
   ],
   "source": [
    "labels"
   ]
  },
  {
   "cell_type": "markdown",
   "metadata": {},
   "source": [
    "#### 의사결정 나무를 이용한 교차검증 10번 실시"
   ]
  },
  {
   "cell_type": "code",
   "execution_count": 70,
   "metadata": {},
   "outputs": [
    {
     "data": {
      "text/plain": [
       "[0.8280229671011794,\n",
       " 0.8235630043451273,\n",
       " 0.8224674115456239,\n",
       " 0.8235692116697703,\n",
       " 0.8341464928615766,\n",
       " 0.8185692116697704,\n",
       " 0.8241247672253259,\n",
       " 0.8180136561142148,\n",
       " 0.8235630043451272,\n",
       " 0.8258038485412786]"
      ]
     },
     "execution_count": 70,
     "metadata": {},
     "output_type": "execute_result"
    }
   ],
   "source": [
    "# Model 만들기\n",
    "\n",
    "dt = DecisionTreeClassifier()\n",
    "\n",
    "cv_scores = []\n",
    "\n",
    "for i in range(10):\n",
    "    scores = cross_val_score(\n",
    "        dt,\n",
    "        features,\n",
    "        labels,\n",
    "        cv=10,\n",
    "        scoring='accuracy'\n",
    "    )\n",
    "    cv_scores.append(scores.mean()) # scores의 평균 데이터만 cv_scores에 추가\n",
    "\n",
    "cv_scores\n"
   ]
  },
  {
   "cell_type": "markdown",
   "metadata": {},
   "source": [
    "### RandomForest를 이용한 교차 검증 10번 실시"
   ]
  },
  {
   "cell_type": "code",
   "execution_count": 71,
   "metadata": {},
   "outputs": [
    {
     "data": {
      "text/plain": [
       "[0.9526939788950962,\n",
       " 0.9487957790192427,\n",
       " 0.9510211049037863,\n",
       " 0.9549286157666046,\n",
       " 0.9471322160148976,\n",
       " 0.9487988826815641,\n",
       " 0.952122905027933,\n",
       " 0.9454531346989447,\n",
       " 0.9460180012414648,\n",
       " 0.9471322160148976]"
      ]
     },
     "execution_count": 71,
     "metadata": {},
     "output_type": "execute_result"
    }
   ],
   "source": [
    "# 모델 만들기\n",
    "rf = RandomForestClassifier()\n",
    "\n",
    "cv_scores = []\n",
    "\n",
    "for i in range(10):\n",
    "    scores = cross_val_score(\n",
    "        rf,\n",
    "        features,\n",
    "        labels,\n",
    "        cv=10,\n",
    "        scoring='accuracy'\n",
    "    )\n",
    "    cv_scores.append(scores.mean())\n",
    "\n",
    "cv_scores\n"
   ]
  },
  {
   "cell_type": "markdown",
   "metadata": {},
   "source": [
    "---\n",
    "### 교차검증 함수만들기"
   ]
  },
  {
   "cell_type": "code",
   "execution_count": 72,
   "metadata": {},
   "outputs": [],
   "source": [
    "# 교차검증을 10번 실행하여 평균 정확도를 구하는 함수\n",
    "\n",
    "def cross_validation(classifier, features, labels):\n",
    "    cv_scores = []\n",
    "    for _ in range(10):\n",
    "        scores = cross_val_score(\n",
    "        classifier,\n",
    "        features,\n",
    "        labels,\n",
    "        cv=10,\n",
    "        scoring='accuracy'\n",
    "        )\n",
    "        cv_scores.append(scores.mean())\n",
    "    return cv_scores\n"
   ]
  },
  {
   "cell_type": "code",
   "execution_count": 73,
   "metadata": {},
   "outputs": [
    {
     "data": {
      "text/plain": [
       "[0.8330509000620733,\n",
       " 0.8224736188702669,\n",
       " 0.8268963376784605,\n",
       " 0.8246710117939168,\n",
       " 0.825788330229671,\n",
       " 0.821880819366853,\n",
       " 0.833584729981378,\n",
       " 0.8280167597765363,\n",
       " 0.826340782122905,\n",
       " 0.8235816263190564]"
      ]
     },
     "execution_count": 73,
     "metadata": {},
     "output_type": "execute_result"
    }
   ],
   "source": [
    "dt_cv_scores = cross_validation(dt, features, labels)\n",
    "dt_cv_scores\n"
   ]
  },
  {
   "cell_type": "code",
   "execution_count": 74,
   "metadata": {},
   "outputs": [
    {
     "data": {
      "text/plain": [
       "[0.9504655493482307,\n",
       " 0.9410117939168219,\n",
       " 0.9510211049037863,\n",
       " 0.9549162011173185,\n",
       " 0.9504469273743016,\n",
       " 0.9449130974549969,\n",
       " 0.9510117939168218,\n",
       " 0.9493513345747981,\n",
       " 0.9488081936685286,\n",
       " 0.9471198013656114]"
      ]
     },
     "execution_count": 74,
     "metadata": {},
     "output_type": "execute_result"
    }
   ],
   "source": [
    "# RadmonForest\n",
    "rf_cv_scores = cross_validation(rf, features, labels)\n",
    "rf_cv_scores\n"
   ]
  },
  {
   "cell_type": "markdown",
   "metadata": {},
   "source": [
    "### 기능이 추가된 함수 만들기\n",
    "- 기존 반복횟수는 5\n",
    "- 기존 cross validation 횟수는 10"
   ]
  },
  {
   "cell_type": "code",
   "execution_count": 75,
   "metadata": {},
   "outputs": [],
   "source": [
    "def cross_validation2(classifier, features, labels, repeats=5, cv_count=10):\n",
    "    cv_scores = []\n",
    "    for _ in range(repeats):\n",
    "        scores = cross_val_score(\n",
    "            classifier,\n",
    "            features,\n",
    "            labels,\n",
    "            cv=cv_count,\n",
    "            scoring='accuracy'\n",
    "        )\n",
    "        cv_scores.append(scores.mean())\n",
    "    return cv_scores"
   ]
  },
  {
   "cell_type": "code",
   "execution_count": 76,
   "metadata": {},
   "outputs": [
    {
     "data": {
      "text/plain": [
       "[0.831368715083799,\n",
       " 0.8241340782122905,\n",
       " 0.8319242706393546,\n",
       " 0.8252296710117939,\n",
       " 0.8269056486654252]"
      ]
     },
     "execution_count": 76,
     "metadata": {},
     "output_type": "execute_result"
    }
   ],
   "source": [
    "cross_validation2(dt, features, labels)"
   ]
  },
  {
   "cell_type": "code",
   "execution_count": 77,
   "metadata": {},
   "outputs": [
    {
     "data": {
      "text/plain": [
       "[0.9404766326214794,\n",
       " 0.9376973073351904,\n",
       " 0.9388022284122564,\n",
       " 0.9399117920148561,\n",
       " 0.9410383782110803,\n",
       " 0.9360229031259673,\n",
       " 0.9377034973692355,\n",
       " 0.9365861962240792,\n",
       " 0.9421463943051688,\n",
       " 0.9332435778396782]"
      ]
     },
     "execution_count": 77,
     "metadata": {},
     "output_type": "execute_result"
    }
   ],
   "source": [
    "cross_validation2(rf, features, labels, 10, 5) # 모델명, feature data, target data, 반복횟수, croos validation 횟수"
   ]
  },
  {
   "cell_type": "markdown",
   "metadata": {},
   "source": [
    "### 랜덤포레스트와 의사결정나무의 정확도 시각화"
   ]
  },
  {
   "cell_type": "code",
   "execution_count": 78,
   "metadata": {},
   "outputs": [
    {
     "data": {
      "image/png": "[encoded data removed]",
      "text/plain": [
       "<Figure size 640x480 with 1 Axes>"
      ]
     },
     "metadata": {},
     "output_type": "display_data"
    }
   ],
   "source": [
    "cv_list = {\n",
    "    'random forest' : rf_cv_scores,\n",
    "    'decision tree' : dt_cv_scores\n",
    "}\n",
    "\n",
    "df = pd.DataFrame(cv_list)\n",
    "df.plot()\n",
    "plt.show()"
   ]
  },
  {
   "cell_type": "code",
   "execution_count": 79,
   "metadata": {},
   "outputs": [
    {
     "name": "stdout",
     "output_type": "stream",
     "text": [
      "decision tree :  0.8266284916201118\n",
      "random forest :  0.9489065797641215\n"
     ]
    }
   ],
   "source": [
    "# 각 모델의 정확도\n",
    "print('decision tree : ', np.mean(dt_cv_scores))\n",
    "print('random forest : ', np.mean(rf_cv_scores))"
   ]
  },
  {
   "cell_type": "markdown",
   "metadata": {},
   "source": [
    "---\n",
    "### 보팅(Voting) 앙상블\n",
    ": 단일 모델들을 앙상블하여 더 나은 예측을 하는 모델 생성"
   ]
  },
  {
   "cell_type": "code",
   "execution_count": 80,
   "metadata": {},
   "outputs": [],
   "source": [
    "from sklearn.neighbors import KNeighborsClassifier\n",
    "from sklearn.svm import SVC\n",
    "from sklearn.ensemble import VotingClassifier\n",
    "from sklearn.model_selection import train_test_split\n",
    "from sklearn.metrics import accuracy_score"
   ]
  },
  {
   "cell_type": "code",
   "execution_count": 81,
   "metadata": {},
   "outputs": [],
   "source": [
    "# 손글씨 데이터\n",
    "train_data, test_data, train_target, test_target = train_test_split(\n",
    "    features,   \n",
    "    labels,\n",
    "    test_size=0.2,\n",
    "    random_state=42\n",
    ")\n"
   ]
  },
  {
   "cell_type": "code",
   "execution_count": 82,
   "metadata": {},
   "outputs": [],
   "source": [
    "# 의사결정나무\n",
    "dtree = DecisionTreeClassifier()\n",
    "dtree.fit(train_data, train_target)\n",
    "dtree_pred = dtree.predict(test_data)"
   ]
  },
  {
   "cell_type": "code",
   "execution_count": 83,
   "metadata": {},
   "outputs": [],
   "source": [
    "# kNN\n",
    "knn = KNeighborsClassifier()\n",
    "knn.fit(train_data, train_target)\n",
    "knn_pred = knn.predict(test_data)\n"
   ]
  },
  {
   "cell_type": "code",
   "execution_count": 84,
   "metadata": {},
   "outputs": [],
   "source": [
    "# SVM\n",
    "svm = SVC()\n",
    "svm.fit(train_data, train_target)\n",
    "svm_pred = svm.predict(test_data)"
   ]
  },
  {
   "cell_type": "code",
   "execution_count": 85,
   "metadata": {},
   "outputs": [
    {
     "name": "stdout",
     "output_type": "stream",
     "text": [
      "dtree :  0.8388888888888889\n",
      "knn :  0.9861111111111112\n",
      "svm :  0.9861111111111112\n"
     ]
    }
   ],
   "source": [
    "# 정확도\n",
    "print('dtree : ', accuracy_score(test_target, dtree_pred))\n",
    "print('knn : ', accuracy_score(test_target, knn_pred))\n",
    "print('svm : ', accuracy_score(test_target, svm_pred))\n"
   ]
  },
  {
   "cell_type": "markdown",
   "metadata": {},
   "source": [
    "### 하드보팅\n",
    ": 각각의 모델들의 예측값들을 모아, 가장 많은 득표를 받은 예측값으로 최종 결론을 낸다.\n"
   ]
  },
  {
   "cell_type": "code",
   "execution_count": 87,
   "metadata": {},
   "outputs": [],
   "source": [
    "voting_clf = VotingClassifier(\n",
    "    estimators=[('decision_tree', dtree), ('knn', knn), ('svm', svm)],\n",
    "    weights=[1,1,1], # 비중을 다르게 할 수 있음\n",
    "    voting='hard'\n",
    ")\n"
   ]
  },
  {
   "cell_type": "code",
   "execution_count": 88,
   "metadata": {},
   "outputs": [
    {
     "data": {
      "text/plain": [
       "0.9861111111111112"
      ]
     },
     "execution_count": 88,
     "metadata": {},
     "output_type": "execute_result"
    }
   ],
   "source": [
    "voting_clf.fit(train_data, train_target)\n",
    "hard_voting_pred = voting_clf.predict(test_data)\n",
    "accuracy_score(test_target, hard_voting_pred)\n"
   ]
  },
  {
   "cell_type": "markdown",
   "metadata": {},
   "source": [
    "### 소프트 보팅\n",
    ": 소프트 보팅은 각각의 분류모델을 활용하여 모든 분류값들의 확률들을 더해서 가장 높은 점수를 획득한 분류값으로 최종 결론내는 방식\n"
   ]
  },
  {
   "cell_type": "code",
   "execution_count": 89,
   "metadata": {},
   "outputs": [],
   "source": [
    "# 소프트보팅은 확률이 필요하므로 SVM에 확률 기능을 추가\n",
    "svm = SVC(probability=True)\n"
   ]
  },
  {
   "cell_type": "code",
   "execution_count": 90,
   "metadata": {},
   "outputs": [],
   "source": [
    "voting_clf = VotingClassifier(\n",
    "    estimators=[('decision_tree', dtree), ('knn', knn), ('svm', svm)],\n",
    "    weights=[1,1,1], # 비중을 다르게 할 수 있음\n",
    "    voting='soft'\n",
    ")\n"
   ]
  },
  {
   "cell_type": "code",
   "execution_count": 91,
   "metadata": {},
   "outputs": [
    {
     "data": {
      "text/plain": [
       "0.9861111111111112"
      ]
     },
     "execution_count": 91,
     "metadata": {},
     "output_type": "execute_result"
    }
   ],
   "source": [
    "voting_clf.fit(train_data, train_target)\n",
    "soft_voting_pred = voting_clf.predict(test_data)\n",
    "accuracy_score(test_target, soft_voting_pred)\n"
   ]
  }
 ],
 "metadata": {
  "kernelspec": {
   "display_name": "base",
   "language": "python",
   "name": "python3"
  },
  "language_info": {
   "codemirror_mode": {
    "name": "ipython",
    "version": 3
   },
   "file_extension": ".py",
   "mimetype": "text/x-python",
   "name": "python",
   "nbconvert_exporter": "python",
   "pygments_lexer": "ipython3",
   "version": "3.12.7"
  }
 },
 "nbformat": 4,
 "nbformat_minor": 2
}
